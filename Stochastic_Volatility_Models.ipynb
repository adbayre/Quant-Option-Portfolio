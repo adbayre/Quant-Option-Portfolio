{
 "cells": [
  {
   "cell_type": "markdown",
   "id": "f4806f0f",
   "metadata": {},
   "source": [
    "# PI² Research & Exploration - Advanced Stochastic Volatility Models\n",
    "\n",
    "Volatility is not constant in real markets. In this notebook, we study the Heston and SABR models that capture stochastic behavior of volatility, and allow better option pricing and volatility surface fitting."
   ]
  },
  {
   "cell_type": "markdown",
   "id": "9e8f7d1b",
   "metadata": {},
   "source": [
    "## Section 0 | Introduction"
   ]
  },
  {
   "cell_type": "markdown",
   "id": "60a55dd1",
   "metadata": {},
   "source": [
    "### An overview of volatility modelling in finance.\n",
    "\n",
    "Volatility is one of the most fundamental and studied concepts in quantitative finance. It measures the degree of variation or uncertainty in the price of a financial asset over time, reflecting how much returns deviate from their average value. In practical terms, high volatility implies larger and more unpredictable price swings, often associated with greater risk and potential reward for investors.\n",
    "\n",
    "Classic financial models like Black–Scholes assume constant volatility, a simplification that makes analytic pricing possible but fails to capture real market behavior. Actual market volatility is time-varying, persistent, and exhibits asymmetric behavior: volatility tends to rise more after negative shocks than after positive ones.\n",
    "\n",
    "Since the 1970s, multiple generations of volatility models have been developed to address these limitations. Statistical approaches, such as ARCH and GARCH models (Engle, R.), introduce conditional heteroskedasticity to describe volatility’s dynamics, while more advanced frameworks like stochastic volatility models treat volatility itself as a random process evolving according to its own SDE.\n",
    "\n",
    "These developments have significantly improved the realism and predictive power of financial models. Stochastic volatility frameworks like the Heston and SABR models allow volatility to vary randomly over time and capture phenomena such as mean reversion, volatility smiles, and correlations between asset returns and variance."
   ]
  },
  {
   "cell_type": "markdown",
   "id": "25dc0efc",
   "metadata": {},
   "source": [
    "## Section 1 | Mathematical Background"
   ]
  },
  {
   "cell_type": "markdown",
   "id": "5352c244",
   "metadata": {},
   "source": [
    "## Section 2 | Simulations"
   ]
  },
  {
   "cell_type": "markdown",
   "id": "894a051d",
   "metadata": {},
   "source": [
    "## Bibliography: \n",
    "- Ribeiro, M. (2018). *Volatility Models in Option Pricing*, Master’s thesis, Instituto Superior Técnico.\n",
    "- Quant Next. *Introduction to Stochastic Volatility Models*, [Website](https://quant-next.com/introduction-to-stochastic-volatility-models/).\n",
    "- Yadav, P. (2024). *The SABR Volatility Model: Unlocking Realistic Market Behavior in Quantitative Finance*, [LinkedIn](https://www.linkedin.com/pulse/sabr-volatility-model-unlocking-realistic-market-behavior-yadav-r3kkc/).\n",
    "- Chang, H. (2024). *Stochastic volatility models and their applications to financial markets*, Xi'an Jiaotong-Liverpool University, [Publication](https://www.ewadirect.com/proceedings/aemps/article/view/18738)."
   ]
  },
  {
   "cell_type": "markdown",
   "id": "501dea8a",
   "metadata": {},
   "source": []
  }
 ],
 "metadata": {
  "language_info": {
   "name": "python"
  }
 },
 "nbformat": 4,
 "nbformat_minor": 5
}
